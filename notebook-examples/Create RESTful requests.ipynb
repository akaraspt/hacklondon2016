{
 "cells": [
  {
   "cell_type": "code",
   "execution_count": null,
   "metadata": {
    "collapsed": true
   },
   "outputs": [],
   "source": [
    "%reload_ext autoreload\n",
    "%autoreload 2"
   ]
  },
  {
   "cell_type": "code",
   "execution_count": null,
   "metadata": {
    "collapsed": false
   },
   "outputs": [],
   "source": [
    "# Add user\n",
    "import httplib, urllib\n",
    "params = urllib.urlencode(\n",
    "    {\n",
    "        'facebook_id': 'facebook_id_01',\n",
    "        'name': 'Akara Supratak'\n",
    "    }\n",
    ")\n",
    "headers = {\n",
    "    'Content-type': 'application/x-www-form-urlencoded',\n",
    "    'Accept': 'text/plain'}\n",
    "conn = httplib.HTTPConnection('104.46.48.140', 5000)\n",
    "conn.request('POST', '/user/add', params, headers)\n",
    "response = conn.getresponse()\n",
    "print response.status, response.reason\n",
    "data = response.read()\n",
    "print data\n",
    "conn.close()"
   ]
  },
  {
   "cell_type": "code",
   "execution_count": null,
   "metadata": {
    "collapsed": false
   },
   "outputs": [],
   "source": [
    "# Upload image\n",
    "import requests\n",
    "files = {'file': open('test.jpg', 'rb')}\n",
    "response = requests.post('http://104.46.48.140:5000/user/img/upload/facebook_id_01', files=files)\n",
    "print response.status_code"
   ]
  },
  {
   "cell_type": "code",
   "execution_count": null,
   "metadata": {
    "collapsed": true
   },
   "outputs": [],
   "source": [
    "# Check registered user\n",
    "# http://104.46.48.140:5000/user/facebook_id_01\n",
    "\n",
    "# Get list of image\n",
    "# http://104.46.48.140:5000/user/img/facebook_id_01\n",
    "# or\n",
    "# import httplib, urllib\n",
    "# conn = httplib.HTTPConnection('104.46.48.140', 5000)\n",
    "# conn.request('GET', '/user/img/facebook_id_01')\n",
    "# response = conn.getresponse()\n",
    "# print response.status, response.reason\n",
    "# data = response.read()\n",
    "# print data\n",
    "# conn.close()\n",
    "\n",
    "# Download image\n",
    "# http://104.46.48.140:5000/user/img/facebook_id_01/56d2051a9ebb7917d54452af"
   ]
  }
 ],
 "metadata": {
  "kernelspec": {
   "display_name": "Python 2",
   "language": "python",
   "name": "python2"
  },
  "language_info": {
   "codemirror_mode": {
    "name": "ipython",
    "version": 2
   },
   "file_extension": ".py",
   "mimetype": "text/x-python",
   "name": "python",
   "nbconvert_exporter": "python",
   "pygments_lexer": "ipython2",
   "version": "2.7.11"
  }
 },
 "nbformat": 4,
 "nbformat_minor": 0
}
