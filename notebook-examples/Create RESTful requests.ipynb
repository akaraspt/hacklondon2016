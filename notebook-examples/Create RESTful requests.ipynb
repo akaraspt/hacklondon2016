{
 "cells": [
  {
   "cell_type": "code",
   "execution_count": null,
   "metadata": {
    "collapsed": true
   },
   "outputs": [],
   "source": [
    "%reload_ext autoreload\n",
    "%autoreload 2"
   ]
  },
  {
   "cell_type": "code",
   "execution_count": null,
   "metadata": {
    "collapsed": true
   },
   "outputs": [],
   "source": [
    "import httplib, urllib\n",
    "params = urllib.urlencode(\n",
    "    {\n",
    "        'first_name': 'Akara', \n",
    "        'last_name': 'Supratak', \n",
    "        'facebook_id': 'asdlfkjsalkfdjlaksfjlksaj'\n",
    "    }\n",
    ")\n",
    "headers = {\n",
    "    'Content-type': 'application/x-www-form-urlencoded',\n",
    "    'Accept': 'text/plain'}\n",
    "conn = httplib.HTTPConnection('localhost', 5000)\n",
    "conn.request('POST', '/user/add', params, headers)\n",
    "response = conn.getresponse()\n",
    "print response.status, response.reason\n",
    "data = response.read()\n",
    "print data\n",
    "conn.close()"
   ]
  },
  {
   "cell_type": "code",
   "execution_count": null,
   "metadata": {
    "collapsed": true
   },
   "outputs": [],
   "source": [
    "import httplib, urllib\n",
    "conn = httplib.HTTPConnection('localhost', 5000)\n",
    "conn.request('GET', '/user/56d1db4e9ebb79104ca61dea')\n",
    "response = conn.getresponse()\n",
    "print response.status, response.reason\n",
    "data = response.read()\n",
    "print data\n",
    "conn.close()"
   ]
  },
  {
   "cell_type": "code",
   "execution_count": null,
   "metadata": {
    "collapsed": true
   },
   "outputs": [],
   "source": [
    "import requests\n",
    "files = {'file': open('test.jpg', 'rb')}\n",
    "r = requests.post('http://localhost:5000/user/img/upload/56d1db4e9ebb79104ca61dea', files=files)\n",
    "print r"
   ]
  },
  {
   "cell_type": "code",
   "execution_count": null,
   "metadata": {
    "collapsed": true
   },
   "outputs": [],
   "source": [
    "import httplib, urllib\n",
    "conn = httplib.HTTPConnection('localhost', 5000)\n",
    "conn.request('GET', '/user/img/56d1db4e9ebb79104ca61dea')\n",
    "response = conn.getresponse()\n",
    "print response.status, response.reason\n",
    "data = response.read()\n",
    "print data\n",
    "conn.close()"
   ]
  },
  {
   "cell_type": "code",
   "execution_count": null,
   "metadata": {
    "collapsed": true
   },
   "outputs": [],
   "source": []
  }
 ],
 "metadata": {
  "kernelspec": {
   "display_name": "Python 2",
   "language": "python",
   "name": "python2"
  },
  "language_info": {
   "codemirror_mode": {
    "name": "ipython",
    "version": 2
   },
   "file_extension": ".py",
   "mimetype": "text/x-python",
   "name": "python",
   "nbconvert_exporter": "python",
   "pygments_lexer": "ipython2",
   "version": "2.7.11"
  }
 },
 "nbformat": 4,
 "nbformat_minor": 0
}
