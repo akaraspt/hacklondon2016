{
 "cells": [
  {
   "cell_type": "code",
   "execution_count": null,
   "metadata": {
    "collapsed": true
   },
   "outputs": [],
   "source": [
    "%reload_ext autoreload\n",
    "%autoreload 2\n",
    "\n",
    "remote = '104.46.48.140'\n",
    "local = 'localhost'\n",
    "ip = local\n",
    "\n",
    "import requests"
   ]
  },
  {
   "cell_type": "code",
   "execution_count": null,
   "metadata": {
    "collapsed": false
   },
   "outputs": [],
   "source": [
    "# Add user\n",
    "json = {\n",
    "    'facebook_id': 'facebook_id_01',\n",
    "    'name': 'Moc',\n",
    "    'friends': [\n",
    "        {\n",
    "            'facebook_id': 'facebook_id_02',\n",
    "            'name': 'Art'\n",
    "        },\n",
    "        {\n",
    "            'facebook_id': 'facebook_id_04',\n",
    "            'name': 'Gee'\n",
    "        }\n",
    "    ]\n",
    "}\n",
    "response = requests.post('http://{}:5000/user/add'.format(ip), json=json)\n",
    "print response.status_code\n",
    "print response.json()\n",
    "\n",
    "json = {\n",
    "    'facebook_id': 'facebook_id_02',\n",
    "    'name': 'Art',\n",
    "    'friends': [\n",
    "        {\n",
    "            'facebook_id': 'facebook_id_01',\n",
    "            'name': 'Moc'\n",
    "        },\n",
    "        {\n",
    "            'facebook_id': 'facebook_id_03',\n",
    "            'name': 'Min'\n",
    "        }\n",
    "    ]\n",
    "}\n",
    "response = requests.post('http://{}:5000/user/add'.format(ip), json=json)\n",
    "print response.status_code\n",
    "print response.json()\n",
    "\n",
    "json = {\n",
    "    'facebook_id': 'facebook_id_03',\n",
    "    'name': 'Min',\n",
    "    'friends': [\n",
    "        {\n",
    "            'facebook_id': 'facebook_id_02',\n",
    "            'name': 'Art'\n",
    "        }\n",
    "    ]\n",
    "}\n",
    "response = requests.post('http://{}:5000/user/add'.format(ip), json=json)\n",
    "print response.status_code\n",
    "print response.json()\n",
    "\n",
    "json = {\n",
    "    'facebook_id': 'facebook_id_04',\n",
    "    'name': 'Gee',\n",
    "    'friends': [\n",
    "        {\n",
    "            'facebook_id': 'facebook_id_01',\n",
    "            'name': 'Moc'\n",
    "        }\n",
    "    ]\n",
    "}\n",
    "response = requests.post('http://{}:5000/user/add'.format(ip), json=json)\n",
    "print response.status_code\n",
    "print response.json()"
   ]
  },
  {
   "cell_type": "code",
   "execution_count": null,
   "metadata": {
    "collapsed": false
   },
   "outputs": [],
   "source": [
    "# Upload image\n",
    "files = {'file': open('gee-02.JPG', 'rb')}\n",
    "response = requests.post('http://{}:5000/user/img/upload/facebook_id_04'.format(ip), files=files)\n",
    "print response.status_code\n",
    "print response.json()"
   ]
  },
  {
   "cell_type": "code",
   "execution_count": null,
   "metadata": {
    "collapsed": false
   },
   "outputs": [],
   "source": [
    "# Detect image\n",
    "import requests\n",
    "files = {'file': open('test-03.JPG', 'rb')}\n",
    "response = requests.post('http://{}:5000/user/detect'.format(ip), files=files)\n",
    "print response.status_code\n",
    "print response.json()['dict']"
   ]
  },
  {
   "cell_type": "code",
   "execution_count": null,
   "metadata": {
    "collapsed": true
   },
   "outputs": [],
   "source": [
    "# Check registered user\n",
    "# http://104.46.48.140:5000/user/facebook_id_01\n",
    "\n",
    "# Get list of image\n",
    "# http://104.46.48.140:5000/user/img/facebook_id_01\n",
    "# or\n",
    "# import httplib, urllib\n",
    "# conn = httplib.HTTPConnection('104.46.48.140', 5000)\n",
    "# conn.request('GET', '/user/img/facebook_id_01')\n",
    "# response = conn.getresponse()\n",
    "# print response.status, response.reason\n",
    "# data = response.read()\n",
    "# print data\n",
    "# conn.close()\n",
    "\n",
    "# Download image\n",
    "# http://104.46.48.140:5000/user/img/facebook_id_01/56d2051a9ebb7917d54452af"
   ]
  }
 ],
 "metadata": {
  "kernelspec": {
   "display_name": "Python 2",
   "language": "python",
   "name": "python2"
  },
  "language_info": {
   "codemirror_mode": {
    "name": "ipython",
    "version": 2
   },
   "file_extension": ".py",
   "mimetype": "text/x-python",
   "name": "python",
   "nbconvert_exporter": "python",
   "pygments_lexer": "ipython2",
   "version": "2.7.11"
  }
 },
 "nbformat": 4,
 "nbformat_minor": 0
}
